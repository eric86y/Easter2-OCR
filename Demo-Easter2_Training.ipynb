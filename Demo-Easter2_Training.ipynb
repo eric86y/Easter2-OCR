{
 "cells": [
  {
   "cell_type": "code",
   "execution_count": null,
   "id": "initial_id",
   "metadata": {
    "ExecuteTime": {
     "end_time": "2024-05-23T09:31:22.461698Z",
     "start_time": "2024-05-23T09:31:18.504735Z"
    },
    "collapsed": true
   },
   "outputs": [],
   "source": [
    "import os\n",
    "import torch\n",
    "import numpy as np\n",
    "from zipfile import ZipFile \n",
    "from OCR.Config import CHARSET\n",
    "from huggingface_hub import snapshot_download\n",
    "\n",
    "from OCR.Encoder import TibetanWylieEncoder\n",
    "from OCR.Trainer import OCRTrainer\n",
    "from OCR.Networks import EasterNetwork\n",
    "from OCR.Utils import shuffle_data, create_dir, build_data_paths\n",
    "\n",
    "\n",
    "print(torch.__version__)\n",
    "torch.cuda.empty_cache()"
   ]
  },
  {
   "cell_type": "markdown",
   "id": "a5047170",
   "metadata": {},
   "source": [
    "#### Train from single Dataset"
   ]
  },
  {
   "cell_type": "code",
   "execution_count": null,
   "id": "82346c1d",
   "metadata": {},
   "outputs": [],
   "source": [
    "# download a dataset from Huggingface\n",
    "# see https://huggingface.co/BDRC for more datasets\n",
    "\n",
    "data_path = snapshot_download(repo_id=\"BDRC/Karmapa8\", repo_type=\"dataset\",  cache_dir=\"Datasets\")\n",
    "\n",
    "with ZipFile(f\"{data_path}/data.zip\", 'r') as zip:\n",
    "    zip.extractall(f\"{data_path}/Dataset\")"
   ]
  },
  {
   "cell_type": "code",
   "execution_count": null,
   "id": "196cf604",
   "metadata": {},
   "outputs": [],
   "source": [
    "dataset_path = f\"{data_path}/Dataset\"\n",
    "image_paths, label_paths = build_data_paths(dataset_path)\n",
    "image_paths, label_paths = shuffle_data(image_paths, label_paths)\n",
    "\n",
    "print(f\"Images: {len(image_paths)}, Labels: {len(label_paths)}\")\n",
    "\n",
    "output_dir = \"Output\"\n",
    "create_dir(output_dir)"
   ]
  },
  {
   "cell_type": "code",
   "execution_count": null,
   "id": "6f103c1f",
   "metadata": {},
   "outputs": [],
   "source": [
    "wylie_encoder = TibetanWylieEncoder(CHARSET)\n",
    "\n",
    "output_dir = \"Output\"\n",
    "create_dir(output_dir)\n",
    "\n",
    "image_width = 3200\n",
    "image_height = 100\n",
    "batch_size = 32\n",
    "label_encoder = wylie_encoder\n",
    "num_classes = label_encoder.num_classes\n",
    "\n",
    "network = EasterNetwork(num_classes=num_classes, image_width=image_width, image_height=image_height, mean_pooling=True)\n",
    "workers = 4\n",
    "\n",
    "ocr_trainer = OCRTrainer(\n",
    "    network=network,\n",
    "    label_encoder=label_encoder,\n",
    "    workers=workers, \n",
    "    image_width=image_width,\n",
    "    image_height=image_height,\n",
    "    batch_size=batch_size, \n",
    "    output_dir=output_dir, \n",
    "    preload_labels=True)\n",
    "\n",
    "ocr_trainer.init(image_paths, label_paths)"
   ]
  },
  {
   "cell_type": "code",
   "execution_count": null,
   "id": "7d5e4aca",
   "metadata": {},
   "outputs": [],
   "source": [
    "# adjust the number of epochs and the learning rate schedular based on your scenario. Smaller datasets will require more epochs for training.\n",
    "num_epochs = 24\n",
    "scheduler_start = 20\n",
    "ocr_trainer.train(epochs=num_epochs, scheduler_start=scheduler_start, check_cer=True, export_onnx=True, silent=True)"
   ]
  },
  {
   "cell_type": "markdown",
   "id": "2cd319ed",
   "metadata": {},
   "source": [
    "#### Evaluate on test set"
   ]
  },
  {
   "cell_type": "code",
   "execution_count": null,
   "id": "aa564acf",
   "metadata": {},
   "outputs": [],
   "source": [
    "cer_scores = ocr_trainer.evaluate()\n",
    "cer_values = list(cer_scores.values())\n",
    "\n",
    "score_file = os.path.join(ocr_trainer.output_dir, \"cer_scores.txt\")\n",
    "\n",
    "with open(score_file, \"w\", encoding=\"utf-8\") as f:\n",
    "    for sample, value in cer_scores.items():\n",
    "        f.write(f\"{sample} - {value}\\n\")\n",
    "\n",
    "cer_summary_file = os.path.join(ocr_trainer.output_dir, \"cer_summary.txt\")\n",
    "\n",
    "mean_cer = np.mean(cer_values)\n",
    "max_cer = np.max(cer_values)\n",
    "min_cer = np.min(cer_values)\n",
    "\n",
    "with open(cer_summary_file, \"w\", encoding=\"utf-8\") as f:\n",
    "    f.write(f\"Mean CER: {mean_cer}\\n\")\n",
    "    f.write(f\"Max CER: {max_cer}\\n\")\n",
    "    f.write(f\"Min CER: {min_cer}\")\n",
    "\n",
    "\n",
    "print(f\"Mean CER: {mean_cer}\")\n",
    "print(f\"Max CER: {max_cer}\")\n",
    "print(f\"Min CER: {min_cer}\")"
   ]
  }
 ],
 "metadata": {
  "kernelspec": {
   "display_name": ".venv",
   "language": "python",
   "name": "python3"
  },
  "language_info": {
   "codemirror_mode": {
    "name": "ipython",
    "version": 3
   },
   "file_extension": ".py",
   "mimetype": "text/x-python",
   "name": "python",
   "nbconvert_exporter": "python",
   "pygments_lexer": "ipython3",
   "version": "3.12.7"
  }
 },
 "nbformat": 4,
 "nbformat_minor": 5
}
